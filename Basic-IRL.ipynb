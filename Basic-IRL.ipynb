{
  "nbformat": 4,
  "nbformat_minor": 0,
  "metadata": {
    "colab": {
      "name": "Untitled1.ipynb",
      "provenance": [],
      "collapsed_sections": [],
      "authorship_tag": "ABX9TyPMih3ZCPMaXetyPfVVCI8X",
      "include_colab_link": true
    },
    "kernelspec": {
      "name": "python3",
      "display_name": "Python 3"
    },
    "language_info": {
      "name": "python"
    }
  },
  "cells": [
    {
      "cell_type": "markdown",
      "metadata": {
        "id": "view-in-github",
        "colab_type": "text"
      },
      "source": [
        "<a href=\"https://colab.research.google.com/github/francescomontagna/MaxEnt-IRL/blob/main/Basic-IRL.ipynb\" target=\"_parent\"><img src=\"https://colab.research.google.com/assets/colab-badge.svg\" alt=\"Open In Colab\"/></a>"
      ]
    },
    {
      "cell_type": "code",
      "metadata": {
        "id": "1SImPGvTum7X"
      },
      "source": [
        "import random\n",
        "import numpy as np\n",
        "import matplotlib.pyplot as plt"
      ],
      "execution_count": 1,
      "outputs": []
    },
    {
      "cell_type": "markdown",
      "metadata": {
        "id": "nkDx9n_kE_Dm"
      },
      "source": [
        "# Classic RL\n",
        "Use TD Learning to learn a policy that will be used as the expert policy"
      ]
    },
    {
      "cell_type": "code",
      "metadata": {
        "id": "dA3lPnivGFjt"
      },
      "source": [
        "def run_experiment(env, agent, number_of_steps):\n",
        "    mean_reward = 0.\n",
        "    try:\n",
        "      action = agent.initial_action()\n",
        "    except AttributeError:\n",
        "      action = 0\n",
        "    for i in range(number_of_steps):\n",
        "      reward, discount, next_state = grid.step(action)\n",
        "      action = agent.step(reward, discount, next_state)\n",
        "      mean_reward += (reward - mean_reward)/(i + 1.)\n",
        "\n",
        "    return mean_reward\n",
        "\n",
        "map_from_action_to_subplot = lambda a: (2, 6, 8, 4)[a]\n",
        "map_from_action_to_name = lambda a: (\"up\", \"right\", \"down\", \"left\")[a]\n",
        "\n",
        "def plot_values(values, colormap='pink', vmin=0, vmax=10):\n",
        "  plt.imshow(values, interpolation=\"nearest\", cmap=colormap, vmin=vmin, vmax=vmax)\n",
        "  plt.yticks([])\n",
        "  plt.xticks([])\n",
        "  plt.colorbar(ticks=[vmin, vmax])\n",
        "\n",
        "def plot_action_values(action_values, vmin=0, vmax=10):\n",
        "  q = action_values\n",
        "  fig = plt.figure(figsize=(8, 8))\n",
        "  fig.subplots_adjust(wspace=0.3, hspace=0.3)\n",
        "  for a in [0, 1, 2, 3]:\n",
        "    plt.subplot(3, 3, map_from_action_to_subplot(a))\n",
        "    plot_values(q[..., a], vmin=vmin, vmax=vmax)\n",
        "    action_name = map_from_action_to_name(a)\n",
        "    plt.title(r\"$q(s, \\mathrm{\" + action_name + r\"})$\")\n",
        "    \n",
        "  plt.subplot(3, 3, 5)\n",
        "  v = 0.9 * np.max(q, axis=-1) + 0.1 * np.mean(q, axis=-1)\n",
        "  plot_values(v, colormap='summer', vmin=vmin, vmax=vmax)\n",
        "  plt.title(\"$v(s)$\")\n",
        "\n",
        "\n",
        "def plot_rewards(xs, rewards, color):\n",
        "  mean = np.mean(rewards, axis=0)\n",
        "  p90 = np.percentile(rewards, 90, axis=0)\n",
        "  p10 = np.percentile(rewards, 10, axis=0)\n",
        "  plt.plot(xs, mean, color=color, alpha=0.6)\n",
        "  plt.fill_between(xs, p90, p10, color=color, alpha=0.3)\n",
        "  \n",
        "\n",
        "def parameter_study(parameter_values, parameter_name,\n",
        "  agent_constructor, env_constructor, color, repetitions=10, number_of_steps=int(1e4)):\n",
        "  mean_rewards = np.zeros((repetitions, len(parameter_values)))\n",
        "  greedy_rewards = np.zeros((repetitions, len(parameter_values)))\n",
        "  for rep in range(repetitions):\n",
        "    for i, p in enumerate(parameter_values):\n",
        "      env = env_constructor()\n",
        "      agent = agent_constructor()\n",
        "      if 'eps' in parameter_name:\n",
        "        agent.set_epsilon(p)\n",
        "      elif 'alpha' in parameter_name:\n",
        "        agent._step_size = p\n",
        "      else:\n",
        "        raise NameError(\"Unknown parameter_name: {}\".format(parameter_name))\n",
        "      mean_rewards[rep, i] = run_experiment(grid, agent, number_of_steps)\n",
        "      agent.set_epsilon(0.)\n",
        "      agent._step_size = 0.\n",
        "      greedy_rewards[rep, i] = run_experiment(grid, agent, number_of_steps//10)\n",
        "      del env\n",
        "      del agent\n",
        "\n",
        "  plt.subplot(1, 2, 1)\n",
        "  plot_rewards(parameter_values, mean_rewards, color)\n",
        "  plt.yticks=([0, 1], [0, 1])\n",
        "  # plt.ylim((0, 1.5))\n",
        "  plt.ylabel(\"Average reward over first {} steps\".format(number_of_steps), size=12)\n",
        "  plt.xlabel(parameter_name, size=12)\n",
        "\n",
        "  plt.subplot(1, 2, 2)\n",
        "  plot_rewards(parameter_values, greedy_rewards, color)\n",
        "  plt.yticks=([0, 1], [0, 1])\n",
        "  # plt.ylim((0, 1.5))\n",
        "  plt.ylabel(\"Final rewards, with greedy policy\".format(number_of_steps), size=12)\n",
        "  plt.xlabel(parameter_name, size=12)\n",
        "  \n",
        "def epsilon_greedy(q_values, epsilon):\n",
        "  if epsilon < np.random.random():\n",
        "    return np.argmax(q_values)\n",
        "  else:\n",
        "    return np.random.randint(np.array(q_values).shape[-1])"
      ],
      "execution_count": 4,
      "outputs": []
    },
    {
      "cell_type": "code",
      "metadata": {
        "id": "pYgvXUEJFJXi"
      },
      "source": [
        "class Grid(object):\n",
        "\n",
        "  def __init__(self, noisy=False):\n",
        "    # -1: wall\n",
        "    # 0: empty, episode continues\n",
        "    # other: number indicates reward, episode will terminate\n",
        "    self._layout = np.array([\n",
        "      [-1, -1, -1, -1, -1, -1, -1],\n",
        "      [-1,  0,  0,  0,  0,  0, -1],\n",
        "      [-1,  0,  0,  0,  0,  0, -1],\n",
        "      [-1,  0,  0,  0,  0,  0, -1],\n",
        "      [-1,  0,  0,  0,  0, 10, -1],\n",
        "      [-1,  0,  0,  0,  0,  0, -1],\n",
        "      [-1, -1, -1, -1, -1, -1, -1],\n",
        "    ])\n",
        "    self._start_state = random.choices(range(1, self._layout.shape[0]-1), k=2)\n",
        "    while self._start_state == [4, 5]:\n",
        "      self._start_state = random.choices(range(1, self._layout.shape[0]-1), k=2)\n",
        "    self._state = self._start_state\n",
        "    self._number_of_states = np.prod(np.shape(self._layout))\n",
        "    self._noisy = noisy\n",
        "\n",
        "  @property\n",
        "  def number_of_states(self):\n",
        "      return self._number_of_states\n",
        "    \n",
        "  def plot_grid(self):\n",
        "    plt.figure(figsize=(4, 4))\n",
        "    plt.imshow(self._layout > -1, interpolation=\"nearest\", cmap='pink')\n",
        "    ax = plt.gca() # 'get current axis'\n",
        "    ax.grid(0)\n",
        "    plt.xticks([])\n",
        "    plt.yticks([])\n",
        "    plt.title(\"The grid\")\n",
        "    plt.text(2, 2, r\"$\\mathbf{S}$\", ha='center', va='center')\n",
        "    plt.text(8, 3, r\"$\\mathbf{G}$\", ha='center', va='center')\n",
        "    h, w = self._layout.shape\n",
        "    for y in range(h-1):\n",
        "      plt.plot([-0.5, w-0.5], [y+0.5, y+0.5], '-k', lw=2)\n",
        "    for x in range(w-1):\n",
        "      plt.plot([x+0.5, x+0.5], [-0.5, h-0.5], '-k', lw=2)\n",
        "\n",
        "  \n",
        "  def get_obs(self):\n",
        "    y, x = self._state\n",
        "    return y*self._layout.shape[1] + x\n",
        "\n",
        "  def obs_to_state(obs):\n",
        "    x = obs % self._layout.shape[1]\n",
        "    y = obs // self._layout.shape[1]\n",
        "    s = np.copy(grid._layout)\n",
        "    s[y, x] = 4\n",
        "    return s\n",
        "\n",
        "  # Environment: given an action as input, return [state, reward]\n",
        "  def step(self, action):\n",
        "    y, x = self._state\n",
        "    \n",
        "    # Next state\n",
        "    if action == 0:  # up\n",
        "      new_state = (y - 1, x)\n",
        "    elif action == 1:  # right\n",
        "      new_state = (y, x + 1)\n",
        "    elif action == 2:  # down\n",
        "      new_state = (y + 1, x)\n",
        "    elif action == 3:  # left\n",
        "      new_state = (y, x - 1)\n",
        "    else:\n",
        "      raise ValueError(\"Invalid action: {} is not 0, 1, 2, or 3.\".format(action))\n",
        "\n",
        "    # Next reward\n",
        "    new_y, new_x = new_state\n",
        "    if self._layout[new_y, new_x] == -1:  # wall\n",
        "      reward = -5.\n",
        "      discount = 0.9\n",
        "      new_state = (y, x)\n",
        "    elif self._layout[new_y, new_x] == 0:  # empty cell\n",
        "      reward = -1\n",
        "      discount = 0.9\n",
        "    else:  # a goal\n",
        "      reward = self._layout[new_y, new_x]\n",
        "      discount = 0.\n",
        "      new_state = self._start_state\n",
        "    \n",
        "    # Add noise to the reward (?)\n",
        "    if self._noisy:\n",
        "      width = self._layout.shape[1]\n",
        "      reward += 2*np.random.normal(0, width - new_x + new_y)\n",
        "    \n",
        "    self._state = new_state\n",
        "\n",
        "    return reward, discount, self.get_obs()"
      ],
      "execution_count": 130,
      "outputs": []
    },
    {
      "cell_type": "code",
      "metadata": {
        "id": "uBWgU589Du8u"
      },
      "source": [
        "class classicRLSolver:\n",
        "  def __init__(self, number_of_states, number_of_actions, initial_state, target_policy, behaviour_policy, double, step_size=0.1):\n",
        "    self._q = np.zeros((number_of_states, number_of_actions))\n",
        "    if double:\n",
        "      self._q2 = np.zeros((number_of_states, number_of_actions))\n",
        "    self._s = initial_state\n",
        "    self._number_of_actions = number_of_actions\n",
        "    self._step_size = step_size\n",
        "    self._behaviour_policy = behaviour_policy\n",
        "    self._target_policy = target_policy\n",
        "    self._double = double\n",
        "    self._last_action = 0\n",
        "    \n",
        "  @property\n",
        "  def q_values(self):\n",
        "    if self._double:\n",
        "      return (self._q + self._q2)/2\n",
        "    else:\n",
        "      return self._q\n",
        "\n",
        "  def step(self, r, g, s):\n",
        "    \"\"\"\n",
        "    Params: \n",
        "    r (int): reward value sampled from the environment. Used for the update\n",
        "    g (float): discount factor\n",
        "    s (int): next state (t+1) sampled. Bootstrap from s\n",
        "    Returns:\n",
        "    next_action (int): refer to Grid() class for action encoding\n",
        "    \"\"\"\n",
        "\n",
        "    if self._double:\n",
        "      values = [self._q, self._q2]\n",
        "      random.shuffle(values)\n",
        "    else:\n",
        "      values = [self._q, self._q]\n",
        "    \n",
        "    a_prime = self._behaviour_policy(values[0][s])\n",
        "\n",
        "    # Next target action, used for the update\n",
        "    target_a_prime = self._target_policy(values[0][s], a_prime)\n",
        "\n",
        "    values[0][self._s, self._last_action] += self._step_size*\\\n",
        "      (r + g*np.dot(values[1][s], target_a_prime) - values[0][self._s, self._last_action])\n",
        "\n",
        "    # Next action: behaviour - in double-q, sample using updated value\n",
        "    self._s = s\n",
        "    self._last_action = a_prime\n",
        "\n",
        "    return a_prime"
      ],
      "execution_count": 131,
      "outputs": []
    },
    {
      "cell_type": "code",
      "metadata": {
        "colab": {
          "base_uri": "https://localhost:8080/",
          "height": 479
        },
        "id": "dv2xQMM-GOST",
        "outputId": "dac54ad3-431a-46fb-d1d9-532d12e33efb"
      },
      "source": [
        "grid = Grid()\n",
        "\n",
        "def target_policy(q, a):\n",
        "  \"\"\"\n",
        "  :param q: action-value vector for a given state \n",
        "  \"\"\"\n",
        "  # One hot vector with one for the most valued action\n",
        "  return np.eye(len(q))[np.argmax(q)]\n",
        "\n",
        "def behaviour_policy(q):\n",
        "  return epsilon_greedy(q, 0.1)\n",
        "\n",
        "agent = classicRLSolver(grid._layout.size, 4, grid.get_obs(),\n",
        "                 target_policy, behaviour_policy, double=False)\n",
        "run_experiment(grid, agent, int(1e5))\n",
        "q = agent.q_values.reshape(grid._layout.shape + (4,))\n",
        "plot_action_values(q)"
      ],
      "execution_count": 132,
      "outputs": [
        {
          "output_type": "display_data",
          "data": {
            "image/png": "[encoded data removed]",
            "text/plain": [
              "<Figure size 576x576 with 10 Axes>"
            ]
          },
          "metadata": {
            "tags": [],
            "needs_background": "light"
          }
        }
      ]
    },
    {
      "cell_type": "code",
      "metadata": {
        "id": "4tWvaVO8Ganu"
      },
      "source": [
        "expert_q = q[1:-1, 1:-1, :]"
      ],
      "execution_count": 133,
      "outputs": []
    },
    {
      "cell_type": "markdown",
      "metadata": {
        "id": "s4DxLRFcFCYQ"
      },
      "source": [
        "# IRL"
      ]
    },
    {
      "cell_type": "code",
      "metadata": {
        "id": "E96ZGzb1vraH"
      },
      "source": [
        "def plot_trajectory(world, t):\n",
        "  plt.figure(figsize=(3, 3))\n",
        "  plt.imshow(world.layout > -1, interpolation=\"nearest\")     \n",
        "  ax = plt.gca()\n",
        "  ax.grid(0)\n",
        "  plt.xticks([])\n",
        "  plt.yticks([])\n",
        "  plt.title(\"The grid\")\n",
        "\n",
        "  start = t[0][0]\n",
        "  end = t[-1][0]\n",
        "  plt.text(\n",
        "      start[1], start[0], \n",
        "      r\"$\\mathbf{S}$\", ha='center', va='center')\n",
        "  plt.text(\n",
        "      end[1], end[0], \n",
        "      r\"$\\mathbf{G}$\", ha='center', va='center')\n",
        "\n",
        "  action_names = [r\"$\\uparrow$\",r\"$\\rightarrow$\", r\"$\\downarrow$\", r\"$\\leftarrow$\"]\n",
        "\n",
        "  for state, action in t[:-1]:\n",
        "    action_name = action_names[action]\n",
        "    plt.text(state[1], state[0], action_name, ha='center', va='center')"
      ],
      "execution_count": 209,
      "outputs": []
    },
    {
      "cell_type": "code",
      "metadata": {
        "id": "WYcfdDjhuvZG"
      },
      "source": [
        "class GridWorld:\n",
        "  def __init__(self, grid_size = 5):\n",
        "    \"\"\"\n",
        "    Attributes:\n",
        "      actions: actions available to the agent (one step in the grid)\n",
        "      grid_size: size of the side of teh squared grid\n",
        "      terminal_state: terminal state of the environment\n",
        "      p_initial: ... ?\n",
        "      state: state in terms of point ion range(0, geid_size**2)\n",
        "      state_coord: coordinates of the state in the grid\n",
        "    \"\"\"\n",
        "\n",
        "    self.actions = [0, 1, 2, 3] # [up, right, down, left]\n",
        "    self.grid_size = grid_size\n",
        "    self.layout = np.zeros((grid_size, grid_size))\n",
        "    self.terminal_state = self.state_coord_to_point((3, 4))\n",
        "    self.p_initial = np.zeros(self.layout.shape)*(1/self.grid_size**2) # must be computed form trajectories\n",
        "\n",
        "    self.reset()\n",
        "\n",
        "  def state_coord_to_point(self, state_coord):\n",
        "    return state_coord[0]*self.grid_size + state_coord[1]\n",
        "\n",
        "  # TODO: test\n",
        "  def point_to_state_coord(self, point):\n",
        "    row = point // self.grid_size\n",
        "    col = point % self.grid_size\n",
        "    return row, col\n",
        "\n",
        "  #TODO: test\n",
        "  def simulate_step(self, state, action):\n",
        "    state_coord = self.point_to_state_coord(state)\n",
        "    next_s_coord = None\n",
        "\n",
        "    if action == 0:\n",
        "      if state_coord[0] == 0:\n",
        "        next_s_coord = state_coord\n",
        "      else:\n",
        "        next_s_coord = (state_coord[0]-1, state_coord[1])\n",
        "\n",
        "    elif action == 1:\n",
        "      if state_coord[1] == (self.grid_size-1):\n",
        "        next_s_coord = state_coord\n",
        "      else:\n",
        "        next_s_coord = (state_coord[0], state_coord[1]+1)\n",
        "      \n",
        "    elif action == 2:\n",
        "      if state_coord[0] == (self.grid_size-1):\n",
        "        next_s_coord = state_coord\n",
        "      else:\n",
        "        next_s_coord = (state_coord[0]+1, state_coord[1])\n",
        "\n",
        "    elif action == 3:\n",
        "      if state_coord[1] == 0:\n",
        "        next_s_coord = state_coord\n",
        "      else:\n",
        "        next_s_coord = (state_coord[0], state_coord[1]-1)\n",
        "    \n",
        "    return self.state_coord_to_point(next_s_coord)\n",
        "\n",
        "  def step(self, action):\n",
        "    next_state = self.simulate_step(self.state, action)\n",
        "    self.state = next_state\n",
        "\n",
        "    return next_state \n",
        "\n",
        "  # Initialize the gridworld\n",
        "  def reset(self):\n",
        "    initial_state = random.choice(range(self.grid_size**2))\n",
        "    while (self.point_to_state_coord(initial_state)) == self.terminal_state:\n",
        "      initial_state = random.choice(range(self.grid_size**2))\n",
        "    self.state = initial_state"
      ],
      "execution_count": 200,
      "outputs": []
    },
    {
      "cell_type": "code",
      "metadata": {
        "id": "ImrBgjMT8YNd"
      },
      "source": [
        "class Trajectories:\n",
        "  def __init__(self, num_samples, world, expert_q):\n",
        "    self.world = world\n",
        "    self.num_samples = num_samples\n",
        "    self.trajectories = []\n",
        "    self.expert_q = expert_q\n",
        "\n",
        "    self.s = self.world.state # point\n",
        "\n",
        "  def sample_trajectories(self):\n",
        "    terminal_state = self.world.terminal_state # point\n",
        "    for _ in range(self.num_samples):\n",
        "      self.world.reset()\n",
        "      state = self.world.state\n",
        "      trajectory = []\n",
        "      while state != terminal_state:\n",
        "        state_coord = self.world.point_to_state_coord(state)\n",
        "        row, col = state_coord\n",
        "        action = np.argmax(self.expert_q[row, col])\n",
        "        trajectory.append((state_coord, action))\n",
        "        state = self.world.step(action)\n",
        "\n",
        "      # Do not store the terminal state, since it is unique\n",
        "      trajectory.append((self.world.point_to_state_coord(state), None))\n",
        "      self.trajectories.append(trajectory)\n",
        "\n",
        "    return self.trajectories"
      ],
      "execution_count": 207,
      "outputs": []
    },
    {
      "cell_type": "code",
      "metadata": {
        "id": "F_DeRVGZxKJC"
      },
      "source": [
        "class MaxCausalEntropy:\n",
        "  # We'll consider the case of a deterministic policy\n",
        "  def __init__(self, trajectories, lr, decay):\n",
        "    \"\"\"\n",
        "    Attributes:\n",
        "      trajectories: list of the sampeld trajectories\n",
        "      lr: learning rate for SGA\n",
        "      decay: weight decay for SGA\n",
        "      world: The environment modeled as GridWorld\n",
        "      features: feature to represrent each state. Simply encoded as coordinates in the grid\n",
        "      theta: learnable parameters, one vector for each possible state. Same dimensionality of features\n",
        "      V: (n_states x n_states) matrix with value associated to each state\n",
        "      D: (n_states x n_states) matrix with visitation frequencies\n",
        "      gamma: discount (Forse dev'essere ritornato da simulate_step, decido poi)\n",
        "    \"\"\"\n",
        "    self.trajectories = trajectories\n",
        "    self.lr = lr\n",
        "    self.decay = decay\n",
        "\n",
        "    self.world = GridWorld()\n",
        "    self.n_states = self.world.grid_size**2\n",
        "    self.features = np.zeros((self.n_states, 2))\n",
        "    for s in range(self.n_states):\n",
        "      i, j = self.world.point_to_state_coord(s)\n",
        "      self.features[s, 0] = i\n",
        "      self.features[s, 1] = j\n",
        "\n",
        "    self.theta = np.zeros((self.n_states, 2)) # np.matmul(self.theta[i, j], self.features[i, j]) = R(s=[i,j])\n",
        "    self.V = np.zeros((self.n_states))\n",
        "    self.D = np.zeros((self.n_states))\n",
        "\n",
        "    self.gamma = 0.9\n",
        "\n",
        "\n",
        "  ######################## HELPER FUNCITONS ########################\n",
        "\n",
        "  def R(self, state):\n",
        "    \"\"\"\n",
        "    Return reward associated to given state (point)\n",
        "    \"\"\"\n",
        "    return np.matmul(self.theta[state], self.features[state])\n",
        "\n",
        "  # TODO Verify\n",
        "  def Q(self, state, action):\n",
        "    \"\"\"\n",
        "    Return action value associated to given state (point)\n",
        "    Maximize over action to get Q(S, A)\n",
        "    \"\"\"\n",
        "    next_s = self.world.simulate_step(state, action)\n",
        "    return self.R(state) + self.gamma * self.V[next_s]\n",
        "\n",
        "  def policy(self, state, action):\n",
        "    return np.exp(self.Q(state, action) - self.V[state])\n",
        "    \n",
        "  # f_b: the feature vectpr representing the expert policy\n",
        "  def feature_exp_from_trajectories(self):\n",
        "    _, features_dim = self.features.shape\n",
        "    f_exp = np.zeros((features_dim))\n",
        "\n",
        "    for trajectory in self.trajectories:\n",
        "      for step in trajectory:\n",
        "        state, action = step\n",
        "        f_exp += self.features[state] # TODO: check if it's point or coord\n",
        "\n",
        "    return f_exp / len(self.trajectories)\n",
        "\n",
        "  def initial_probabilities_from_trajectories(n_states, trajectories):\n",
        "    p = np.zeros(self.world.layout)\n",
        "\n",
        "    for t in trajectories:                  # for each trajectory\n",
        "        p[t[0][0], t[0][1]] += 1     # increment starting state\n",
        "\n",
        "    return p / len(trajectories)          \n",
        "\n",
        "\n",
        "  ######################## CORE FUNCTIONS ########################\n",
        "\n",
        "  def pseudo_gpi(self):\n",
        "    \"\"\"\n",
        "    Algorithm to update the value function\n",
        "    \"\"\"\n",
        "    # NOTE: state = point in range(self.n_states)\n",
        "    eps = 1e-3\n",
        "    \n",
        "    # For each state, define set V to -inf\n",
        "    self.V = np.ones((self.n_states))*np.finfo(float).min\n",
        "\n",
        "    # Set V_prime to -inf except for termnal state which is set to 0\n",
        "    V_prime = np.ones((self.n_states))*np.finfo(float).min\n",
        "    V_prime[self.world.state_coord_to_point(self.world.terminal_state)] = 0\n",
        "\n",
        "    delta = np.ones((self.n_states))*np.finfo(float).max # parameter to monitor convergence\n",
        "    while np.max(delta) > eps:\n",
        "      # Update V for each state\n",
        "      for s in range(self.n_states):\n",
        "        for a in self.world.actions:\n",
        "          next_s = self.world.simulate_step(s, a, point=True)\n",
        "          V_prime[s] = np.log(np.exp(V_prime[s]) + np.exp(self.R(s) + self.V[next_s]))\n",
        "\n",
        "        delta[s] = np.abs(self.V[s] - V_prime[s])\n",
        "        self.V[s] = V_prime[s]\n",
        "\n",
        "    # return self.V \n",
        "\n",
        "  def expected_svf(self):\n",
        "    eps = 1e-5\n",
        "\n",
        "    self.D = np.zeros((n_states))\n",
        "    D_prime = self.initial_probabilites_from_trajetories(self.n_states, self.trajectories) # TODO Handle copy (shallow, deep, .. boh)\n",
        "\n",
        "    delta = np.ones((self.n_states))*np.finfo(float).max\n",
        "    while np.max(delta) > eps:\n",
        "      for s in range(self.n_states):\n",
        "        for a in self.world.actions:\n",
        "          next_s = self.world.simulate_step(s, a)\n",
        "          D_prime[s] += self.D[s]*self.policy(next_s, a)\n",
        "\n",
        "        delta[s] = np.abs(self.D[s] - D_prime[s])\n",
        "        self.D[s] = D_prime[s]\n",
        "           \n",
        "    # return self.D[s]\n",
        "\n",
        "  def sga(self):\n",
        "    eps = 1e-4\n",
        "    delta = np.ones(self.features.shape)*np.finfo(float).max\n",
        "    decay = self.decay\n",
        "    f_exp_from_t  = self.feature_exp_from_trajectories()\n",
        "    while np.max(delta) > eps:\n",
        "      for state in range(self.n_states):\n",
        "        gradient = self.features[state]*self.D[state] # Not sure this is right..., non c'è traccia delle azioni\n",
        "        update = np.exp(-(self.lr/decay)*(f_exp_from_t - gradient))\n",
        "        delta[state] = np.abs(self.theta[state] - self.theta[state]*update)\n",
        "        self.theta[state] *= update\n",
        "\n",
        "    # return self.theta\n",
        "\n",
        "\n",
        "  ######################## ALGORITHM ########################\n",
        "\n",
        "  def maxirl(self):\n",
        "    delta = np.ones(self.n_states)*np.finfo(float).max\n",
        "    eps = 1e-5\n",
        "\n",
        "    while np.max(delta) > eps:\n",
        "      self.pseudo_gpi()\n",
        "      self.expected_svf()\n",
        "      delta = self.theta\n",
        "      self.sga()\n",
        "      delta = np.abs(delta - self.theta)\n",
        "      \n",
        "    return self.theta"
      ],
      "execution_count": 182,
      "outputs": []
    },
    {
      "cell_type": "markdown",
      "metadata": {
        "id": "NdjeHQPJNSn5"
      },
      "source": [
        "# Experiements"
      ]
    },
    {
      "cell_type": "code",
      "metadata": {
        "id": "-8foWEeNNVZk"
      },
      "source": [
        "LR = 0.001\n",
        "DECAY = 1000"
      ],
      "execution_count": 153,
      "outputs": []
    },
    {
      "cell_type": "code",
      "metadata": {
        "id": "eeDatmtvNCMl",
        "outputId": "ae2de29a-588e-4241-a35b-cfa9dbf82d0c",
        "colab": {
          "base_uri": "https://localhost:8080/",
          "height": 1000
        }
      },
      "source": [
        "world = GridWorld()\n",
        "T = Trajectories(num_samples=200, world = world, expert_q=expert_q)\n",
        "trajectories = T.sample_trajectories()\n",
        "for t in trajectories[0:10]:\n",
        "  plot_trajectory(world, t)\n",
        "# irl_solver = MaxCausalEntropy(trajectories, LR, DECAY)\n",
        "# irl_solver.maxirl()"
      ],
      "execution_count": 208,
      "outputs": [
        {
          "output_type": "stream",
          "text": [
            "(3, 4)\n",
            "(3, 4)\n",
            "(3, 4)\n",
            "(3, 4)\n",
            "(3, 4)\n",
            "(3, 4)\n",
            "(3, 4)\n",
            "(3, 4)\n",
            "(3, 4)\n",
            "(3, 4)\n"
          ],
          "name": "stdout"
        },
        {
          "output_type": "display_data",
          "data": {
            "image/png": "[encoded data removed]",
            "text/plain": [
              "<Figure size 216x216 with 1 Axes>"
            ]
          },
          "metadata": {
            "tags": []
          }
        },
        {
          "output_type": "display_data",
          "data": {
            "image/png": "[encoded data removed]",
            "text/plain": [
              "<Figure size 216x216 with 1 Axes>"
            ]
          },
          "metadata": {
            "tags": []
          }
        },
        {
          "output_type": "display_data",
          "data": {
            "image/png": "[encoded data removed]",
            "text/plain": [
              "<Figure size 216x216 with 1 Axes>"
            ]
          },
          "metadata": {
            "tags": []
          }
        },
        {
          "output_type": "display_data",
          "data": {
            "image/png": "[encoded data removed]",
            "text/plain": [
              "<Figure size 216x216 with 1 Axes>"
            ]
          },
          "metadata": {
            "tags": []
          }
        },
        {
          "output_type": "display_data",
          "data": {
            "image/png": "[encoded data removed]",
            "text/plain": [
              "<Figure size 216x216 with 1 Axes>"
            ]
          },
          "metadata": {
            "tags": []
          }
        },
        {
          "output_type": "display_data",
          "data": {
            "image/png": "[encoded data removed]",
            "text/plain": [
              "<Figure size 216x216 with 1 Axes>"
            ]
          },
          "metadata": {
            "tags": []
          }
        },
        {
          "output_type": "display_data",
          "data": {
            "image/png": "[encoded data removed]",
            "text/plain": [
              "<Figure size 216x216 with 1 Axes>"
            ]
          },
          "metadata": {
            "tags": []
          }
        },
        {
          "output_type": "display_data",
          "data": {
            "image/png": "[encoded data removed]",
            "text/plain": [
              "<Figure size 216x216 with 1 Axes>"
            ]
          },
          "metadata": {
            "tags": []
          }
        },
        {
          "output_type": "display_data",
          "data": {
            "image/png": "[encoded data removed]",
            "text/plain": [
              "<Figure size 216x216 with 1 Axes>"
            ]
          },
          "metadata": {
            "tags": []
          }
        },
        {
          "output_type": "display_data",
          "data": {
            "image/png": "[encoded data removed]",
            "text/plain": [
              "<Figure size 216x216 with 1 Axes>"
            ]
          },
          "metadata": {
            "tags": []
          }
        }
      ]
    }
  ]
}